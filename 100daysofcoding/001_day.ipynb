{
 "cells": [
  {
   "cell_type": "code",
   "execution_count": 3,
   "metadata": {},
   "outputs": [
    {
     "name": "stdout",
     "output_type": "stream",
     "text": [
      "Day 1 - Python Print Function\n",
      "The function is declared like this:\n",
      "print('what to print')\n"
     ]
    }
   ],
   "source": [
    "#Write your code below this line 👇\n",
    "\n",
    "print(\"Day 1 - Python Print Function\")\n",
    "print(\"The function is declared like this:\")\n",
    "print(\"print('what to print')\")"
   ]
  },
  {
   "cell_type": "code",
   "execution_count": 2,
   "metadata": {},
   "outputs": [
    {
     "name": "stdout",
     "output_type": "stream",
     "text": [
      "Day 1 - String Manipulation\n",
      "String Concatenation is done with the \"+\" sign.\n",
      "e.g. print(\"Hello \" + \"world\")\n",
      "New lines can be created with a backslash and n.\n"
     ]
    }
   ],
   "source": [
    "\n",
    "#Fixed the code below 👇\n",
    "\n",
    "print(\"Day 1 - String Manipulation\")\n",
    "print('String Concatenation is done with the \"+\" sign.')\n",
    "print('e.g. print(\"Hello \" + \"world\")')\n",
    "print(\"New lines can be created with a backslash and n.\")"
   ]
  },
  {
   "cell_type": "code",
   "execution_count": 4,
   "metadata": {},
   "outputs": [
    {
     "name": "stdout",
     "output_type": "stream",
     "text": [
      "3\n"
     ]
    }
   ],
   "source": [
    "# https://pythontutor.com/render.html#mode=display\n",
    "# thonny app - debuging code for beginners\n",
    "\n",
    "\n",
    "# input name\n",
    "# display len of the name\n",
    "print(len(input(\"What is your name?\")))\n"
   ]
  },
  {
   "cell_type": "code",
   "execution_count": 11,
   "metadata": {},
   "outputs": [
    {
     "name": "stdout",
     "output_type": "stream",
     "text": [
      "a: 9\n",
      "b: 5\n"
     ]
    }
   ],
   "source": [
    "#Write a program that switches the values stored in the variables a and b.\n",
    "#Warning. Do not change the code on lines 1-4 and 12-18. Your program should work for different inputs. e.g. any value of a and b.\n",
    "\n",
    "# 🚨 Don't change the code below 👇\n",
    "a = input(\"a: \")\n",
    "b = input(\"b: \")\n",
    "# 🚨 Don't change the code above 👆\n",
    "\n",
    "####################################\n",
    "#Write your code below this line 👇\n",
    "\n",
    "c = a\n",
    "a = b\n",
    "b = c\n",
    "\n",
    "\n",
    "#Write your code above this line 👆\n",
    "####################################\n",
    "\n",
    "# 🚨 Don't change the code below 👇\n",
    "print(\"a: \" + a)\n",
    "print(\"b: \" + b)\n",
    "\n",
    "\n",
    "\n"
   ]
  },
  {
   "cell_type": "code",
   "execution_count": 13,
   "metadata": {},
   "outputs": [
    {
     "name": "stdout",
     "output_type": "stream",
     "text": [
      "Hello !\n",
      "Your brand name is: \n",
      " wawa tosia\n"
     ]
    }
   ],
   "source": [
    "#1. Create a greeting for your program.\n",
    "print(\"Hello !\")\n",
    "#2. Ask the user for the city that they grew up in.\n",
    "city = input(\"What is the city that you grew up in?\\n\")\n",
    "\n",
    "#3. Ask the user for the name of a pet.\n",
    "pet = input(\"What is the name of your pet?\\n\")\n",
    "\n",
    "#4. Combine the name of their city and pet and show them their band name.\n",
    "\n",
    "print(\"Your brand name is: \\n\", city +\" \" +pet)\n",
    "\n",
    "#5. Make sure the input cursor shows on a new line:\n",
    "\n",
    "# Solution: https://replit.com/@appbrewery/band-name-generator-end"
   ]
  }
 ],
 "metadata": {
  "kernelspec": {
   "display_name": ".venv",
   "language": "python",
   "name": "python3"
  },
  "language_info": {
   "codemirror_mode": {
    "name": "ipython",
    "version": 3
   },
   "file_extension": ".py",
   "mimetype": "text/x-python",
   "name": "python",
   "nbconvert_exporter": "python",
   "pygments_lexer": "ipython3",
   "version": "3.10.8"
  },
  "orig_nbformat": 4
 },
 "nbformat": 4,
 "nbformat_minor": 2
}
