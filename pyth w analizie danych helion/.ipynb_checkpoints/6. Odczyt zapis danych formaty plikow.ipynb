{
 "cells": [
  {
   "cell_type": "code",
   "execution_count": 1,
   "metadata": {},
   "outputs": [],
   "source": [
    "import pandas as pd\n",
    "from pandas import Series, DataFrame\n",
    "import numpy as np"
   ]
  },
  {
   "cell_type": "markdown",
   "metadata": {},
   "source": [
    "# 6.1.   Odczyt i zapis danych w formacie tekstowym 177 \n",
    "## Wczytywanie części pliku tekstowego 184 \n",
    "## Zapis danych w formacie tekstowym 185 \n",
    "## Praca z plikami danych rozgraniczonych 187 \n",
    "## Dane w formacie JSON 189 \n",
    "## XML i HTML — web scraping 190\n",
    "\n",
    "# 6.2.   Formaty danych binarnych 194 \n",
    "## Wczytywanie plików programu Microsoft Excel 195 \n",
    "## Obsługa formatu HDF5 196 \n",
    "\n",
    "# 6.3.   Obsługa interfejsów sieciowych 198 \n",
    "# 6.4.   Obsługa baz danych 200 \n",
    "# 6.5.   Podsumowanie 202\n"
   ]
  }
 ],
 "metadata": {
  "kernelspec": {
   "display_name": "Python 3",
   "language": "python",
   "name": "python3"
  },
  "language_info": {
   "codemirror_mode": {
    "name": "ipython",
    "version": 3
   },
   "file_extension": ".py",
   "mimetype": "text/x-python",
   "name": "python",
   "nbconvert_exporter": "python",
   "pygments_lexer": "ipython3",
   "version": "3.11.2"
  },
  "orig_nbformat": 4
 },
 "nbformat": 4,
 "nbformat_minor": 2
}
