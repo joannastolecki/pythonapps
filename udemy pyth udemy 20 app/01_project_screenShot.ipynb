{
 "cells": [
  {
   "cell_type": "code",
   "execution_count": 2,
   "metadata": {},
   "outputs": [
    {
     "name": "stdout",
     "output_type": "stream",
     "text": [
      "1694255303081\n",
      "/Users/iaska/github clones/pythonapps/.venv/1694255303081.png\n"
     ]
    }
   ],
   "source": [
    "# pip install pyautogui\n",
    "#  pip install time\n",
    "\n",
    "import time\n",
    "import pyautogui\n",
    "\n",
    "# function create \n",
    "def screenshot():\n",
    "    name = int(round(time.time() * 1000))\n",
    "    print(name)\n",
    "    name = \"/Users/iaska/github clones/pythonapps/.venv/{}.png\".format(name)\n",
    "    print(name)\n",
    "    time.sleep(5) # delay excecution\n",
    "    img = pyautogui.screenshot(name)\n",
    "    img.show()\n",
    "    \n",
    "    \n",
    "screenshot()"
   ]
  }
 ],
 "metadata": {
  "kernelspec": {
   "display_name": ".venv",
   "language": "python",
   "name": "python3"
  },
  "language_info": {
   "codemirror_mode": {
    "name": "ipython",
    "version": 3
   },
   "file_extension": ".py",
   "mimetype": "text/x-python",
   "name": "python",
   "nbconvert_exporter": "python",
   "pygments_lexer": "ipython3",
   "version": "3.10.8"
  },
  "orig_nbformat": 4
 },
 "nbformat": 4,
 "nbformat_minor": 2
}
