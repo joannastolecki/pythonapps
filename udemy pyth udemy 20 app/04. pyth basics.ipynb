{
 "cells": [
  {
   "cell_type": "code",
   "execution_count": 2,
   "metadata": {},
   "outputs": [
    {
     "name": "stdout",
     "output_type": "stream",
     "text": [
      "<class 'int'> 78\n"
     ]
    }
   ],
   "source": [
    "# python basics\n",
    "\n",
    "#..\n",
    "#multiline comments\n",
    "#...\n",
    "\n",
    "# basic operations\n",
    "# a = 5\n",
    "# b = 10 \n",
    "\n",
    "# c = a+b\n",
    "# print(c)\n",
    "# print(\"a+b=\",c)\n",
    "\n",
    "# user input\n",
    "a = int(input(\"Enter some value\\n\"))\n",
    "print(type(a),a)"
   ]
  },
  {
   "cell_type": "code",
   "execution_count": 1,
   "metadata": {},
   "outputs": [],
   "source": [
    "# ala ma kota"
   ]
  }
 ],
 "metadata": {
  "kernelspec": {
   "display_name": ".venv",
   "language": "python",
   "name": "python3"
  },
  "language_info": {
   "codemirror_mode": {
    "name": "ipython",
    "version": 3
   },
   "file_extension": ".py",
   "mimetype": "text/x-python",
   "name": "python",
   "nbconvert_exporter": "python",
   "pygments_lexer": "ipython3",
   "version": "3.10.8"
  },
  "orig_nbformat": 4
 },
 "nbformat": 4,
 "nbformat_minor": 2
}
