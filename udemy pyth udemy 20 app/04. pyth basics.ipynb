{
 "cells": [
  {
   "cell_type": "code",
   "execution_count": 12,
   "metadata": {},
   "outputs": [
    {
     "name": "stdout",
     "output_type": "stream",
     "text": [
      "reszta:  1\n",
      "5\n",
      "10\n",
      "15\n",
      "20\n",
      "25\n",
      "30\n",
      "35\n",
      "40\n",
      "45\n",
      "50\n"
     ]
    }
   ],
   "source": [
    "# python basics\n",
    "\n",
    "#..\n",
    "#multiline comments\n",
    "#...\n",
    "\n",
    "# basic operations\n",
    "# a = 5\n",
    "# b = 10 \n",
    "\n",
    "# c = a+b\n",
    "# print(c)\n",
    "# print(\"a+b=\",c)\n",
    "\n",
    "# user input\n",
    "a = int(input(\"Enter some value\\n\"))\n",
    "#print(type(a),a)\n",
    "#print(a)\n",
    "\n",
    "\"\"\" \n",
    "W Pythonie operator \"%\" to operator modulo, który oblicza resztę z dzielenia dwóch liczb. \n",
    "Na przykład, jeśli użyjemy wyrażenia \"a % 2\" w Pythonie, zwróci ono resztę z dzielenia liczby \"a\" przez 2. Jeśli reszta będzie równa 0, to oznacza że liczba \"a\" jest parzysta, w przeciwnym razie liczba jest nieparzysta. \n",
    "Przykładowo, dla a = 5, wyrażenie \"a % 2\" da wynik 1, ponieważ reszta z dzielenia 5 przez 2 wynosi 1. Natomiast dla a = 6, wyrażenie \"a % 2\" da wynik 0, ponieważ reszta z dzielenia 6 przez 2 wynosi 0.\n",
    "\"\"\"\n",
    "#wyswietl wtedy gdy reszta 0\n",
    "if a%2 == 0:\n",
    "    print(\"reszta \",a%2)\n",
    "else:\n",
    "    print(\"reszta: \", a%2)\n",
    "    \n",
    "    \n",
    "# tables\n",
    "\n",
    "for i in range(1,11):\n",
    "    print(i*a)    "
   ]
  },
  {
   "cell_type": "code",
   "execution_count": 16,
   "metadata": {},
   "outputs": [
    {
     "name": "stdout",
     "output_type": "stream",
     "text": [
      "apple\n",
      "['apple', 'banana', 'orange']\n",
      "5\n"
     ]
    }
   ],
   "source": [
    "# list == array\n",
    "fruits = [\"apple\",\"banana\",\"orange\"]\n",
    "\n",
    "print(fruits[0])\n",
    "print(fruits)\n",
    "\n",
    "print(a)\n",
    "\n",
    "\n"
   ]
  }
 ],
 "metadata": {
  "kernelspec": {
   "display_name": ".venv",
   "language": "python",
   "name": "python3"
  },
  "language_info": {
   "codemirror_mode": {
    "name": "ipython",
    "version": 3
   },
   "file_extension": ".py",
   "mimetype": "text/x-python",
   "name": "python",
   "nbconvert_exporter": "python",
   "pygments_lexer": "ipython3",
   "version": "3.10.8"
  },
  "orig_nbformat": 4
 },
 "nbformat": 4,
 "nbformat_minor": 2
}
