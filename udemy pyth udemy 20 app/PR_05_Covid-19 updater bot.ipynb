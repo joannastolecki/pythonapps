{
 "cells": [
  {
   "cell_type": "code",
   "execution_count": 3,
   "metadata": {},
   "outputs": [
    {
     "data": {
      "text/plain": [
       "True"
      ]
     },
     "execution_count": 3,
     "metadata": {},
     "output_type": "execute_result"
    }
   ],
   "source": [
    "# pip install requests\n",
    "# pip install notify-py  >>> cross platform \n",
    "\n",
    "import time\n",
    "import requests\n",
    "import json\n",
    "from notifypy import Notify\n",
    "\n",
    "\"\"\" notification = Notify()\n",
    "notification.title = \"Cool Title\"\n",
    "notification.message = \"Even cooler message.\"\n",
    "notification.send() \"\"\"\n",
    "\n",
    "def update():\n",
    "    r = requests.get('')\n",
    "\n",
    "# https://api-krs.ms.gov.pl/api/krs/OdpisAktualny/{'0000025237'}?rejestr={P}&format=json\n",
    "#https://api-krs.ms.gov.pl/api/krs/OdpisAktualny/{25237}?rejestr={P}&format=json\n",
    "\n",
    "\n"
   ]
  }
 ],
 "metadata": {
  "kernelspec": {
   "display_name": ".venv",
   "language": "python",
   "name": "python3"
  },
  "language_info": {
   "codemirror_mode": {
    "name": "ipython",
    "version": 3
   },
   "file_extension": ".py",
   "mimetype": "text/x-python",
   "name": "python",
   "nbconvert_exporter": "python",
   "pygments_lexer": "ipython3",
   "version": "3.10.8"
  },
  "orig_nbformat": 4
 },
 "nbformat": 4,
 "nbformat_minor": 2
}
